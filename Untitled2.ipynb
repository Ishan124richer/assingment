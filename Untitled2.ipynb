{
 "cells": [
  {
   "cell_type": "code",
   "execution_count": 2,
   "id": "9592b04c-5ade-4c7c-92ea-bae50220370f",
   "metadata": {},
   "outputs": [
    {
     "ename": "NameError",
     "evalue": "name 'reverse_string' is not defined",
     "output_type": "error",
     "traceback": [
      "\u001b[1;31m---------------------------------------------------------------------------\u001b[0m",
      "\u001b[1;31mNameError\u001b[0m                                 Traceback (most recent call last)",
      "Cell \u001b[1;32mIn[2], line 4\u001b[0m\n\u001b[0;32m      1\u001b[0m \u001b[38;5;66;03m#1  Write a code to reverse a  string.\u001b[39;00m\n\u001b[0;32m      3\u001b[0m input_string \u001b[38;5;241m=\u001b[39m \u001b[38;5;124m\"\u001b[39m\u001b[38;5;124mHello, World!\u001b[39m\u001b[38;5;124m\"\u001b[39m\n\u001b[1;32m----> 4\u001b[0m reversed_string \u001b[38;5;241m=\u001b[39m \u001b[43mreverse_string\u001b[49m(input_string)\n\u001b[0;32m      5\u001b[0m \u001b[38;5;28mprint\u001b[39m(reversed_string)\n",
      "\u001b[1;31mNameError\u001b[0m: name 'reverse_string' is not defined"
     ]
    }
   ],
   "source": [
    "#1  Write a code to reverse a  string.\n",
    "\n",
    "input_string = \"Hello, World!\"\n",
    "reversed_string = reverse_string(input_string)\n",
    "print(reversed_string)\n"
   ]
  },
  {
   "cell_type": "code",
   "execution_count": null,
   "id": "d2cb2c52-9bd3-4472-9a53-8d381c611f39",
   "metadata": {},
   "outputs": [],
   "source": [
    "#2  Write a code to count the number of vowels in a strings\n",
    "\n",
    "\n",
    "input_string = \"Hello, World!\"\n",
    "vowel_count = count_vowels(input_string)\n",
    "print(vowel_count)\n"
   ]
  },
  {
   "cell_type": "code",
   "execution_count": null,
   "id": "b348ec19-aa0c-4f94-944e-25b2bc29c906",
   "metadata": {},
   "outputs": [],
   "source": [
    "#3  Write a code to check if ' given string is a palindrome or not\n",
    "\n",
    "input_string = \"mom\"\n",
    "if is_palindrome(input_string):\n",
    "    print(\"The string is a palindrome.\")\n",
    "else:\n",
    "    print(\"The string is not a palindrome.\")\n"
   ]
  },
  {
   "cell_type": "code",
   "execution_count": null,
   "id": "390bc0a2-9ff0-468e-8e19-ffa1d43aa7f6",
   "metadata": {},
   "outputs": [],
   "source": [
    "#4   Write a code to check if two given strings are anagra\f",
    "ms of each other.\n",
    "\n",
    "\n",
    "# Example usage\n",
    "string1 = \"Listen\"\n",
    "string2 = \"Silent\"\n",
    "\n",
    "if are_anagrams(string1, string2):\n",
    "    print(\"The strings are anagrams.\")\n",
    "else:\n",
    "    print(\"The strings are not anagrams.\")\n",
    "\n"
   ]
  },
  {
   "cell_type": "code",
   "execution_count": null,
   "id": "cf568b17-6024-4b22-9dc2-9b2ea1f765d3",
   "metadata": {},
   "outputs": [],
   "source": [
    "#5  Write a code to find all occurrences of a given substring within another string\n",
    "\n",
    "\n",
    "\n",
    "main_string = \"This is a test string. This string is for testing.\"\n",
    "substring = \"is\"\n",
    "\n",
    "positions = find_all_occurrences(main_string, substring)\n",
    "print(positions)\n"
   ]
  },
  {
   "cell_type": "code",
   "execution_count": 3,
   "id": "81c013b9-456a-45b5-aca7-f4ade0bfe077",
   "metadata": {},
   "outputs": [
    {
     "ename": "NameError",
     "evalue": "name 'compress_string' is not defined",
     "output_type": "error",
     "traceback": [
      "\u001b[1;31m---------------------------------------------------------------------------\u001b[0m",
      "\u001b[1;31mNameError\u001b[0m                                 Traceback (most recent call last)",
      "Cell \u001b[1;32mIn[3], line 5\u001b[0m\n\u001b[0;32m      1\u001b[0m \u001b[38;5;66;03m#6  Write a code to perform basic string compression using the counts of repeated characters\u001b[39;00m\n\u001b[0;32m      4\u001b[0m original_string \u001b[38;5;241m=\u001b[39m \u001b[38;5;124m\"\u001b[39m\u001b[38;5;124maabcccccaaa\u001b[39m\u001b[38;5;124m\"\u001b[39m\n\u001b[1;32m----> 5\u001b[0m compressed_string \u001b[38;5;241m=\u001b[39m \u001b[43mcompress_string\u001b[49m(original_string)\n\u001b[0;32m      6\u001b[0m \u001b[38;5;28mprint\u001b[39m(compressed_string)  \n",
      "\u001b[1;31mNameError\u001b[0m: name 'compress_string' is not defined"
     ]
    }
   ],
   "source": [
    "#6  Write a code to perform basic string compression using the counts of repeated characters\n",
    "\n",
    "\n",
    "original_string = \"aabcccccaaa\"\n",
    "compressed_string = compress_string(original_string)\n",
    "print(compressed_string)  \n",
    "\n",
    "\n"
   ]
  },
  {
   "cell_type": "code",
   "execution_count": 4,
   "id": "d854e1ed-d132-4669-993f-c1ce6ead54d4",
   "metadata": {},
   "outputs": [
    {
     "ename": "NameError",
     "evalue": "name 'has_unique_characters' is not defined",
     "output_type": "error",
     "traceback": [
      "\u001b[1;31m---------------------------------------------------------------------------\u001b[0m",
      "\u001b[1;31mNameError\u001b[0m                                 Traceback (most recent call last)",
      "Cell \u001b[1;32mIn[4], line 8\u001b[0m\n\u001b[0;32m      5\u001b[0m string1 \u001b[38;5;241m=\u001b[39m \u001b[38;5;124m\"\u001b[39m\u001b[38;5;124mabcdef\u001b[39m\u001b[38;5;124m\"\u001b[39m\n\u001b[0;32m      6\u001b[0m string2 \u001b[38;5;241m=\u001b[39m \u001b[38;5;124m\"\u001b[39m\u001b[38;5;124mhello\u001b[39m\u001b[38;5;124m\"\u001b[39m\n\u001b[1;32m----> 8\u001b[0m \u001b[38;5;28mprint\u001b[39m(\u001b[43mhas_unique_characters\u001b[49m(string1))  \n\u001b[0;32m      9\u001b[0m \u001b[38;5;28mprint\u001b[39m(has_unique_characters(string2))  \n",
      "\u001b[1;31mNameError\u001b[0m: name 'has_unique_characters' is not defined"
     ]
    }
   ],
   "source": [
    "#7  Write a code to determine if a string has all unique characters\n",
    "\n",
    "\n",
    "\n",
    "string1 = \"abcdef\"\n",
    "string2 = \"hello\"\n",
    "\n",
    "print(has_unique_characters(string1))  \n",
    "print(has_unique_characters(string2))  \n"
   ]
  },
  {
   "cell_type": "code",
   "execution_count": null,
   "id": "b6f2fbf0-2139-434d-a722-5348855c6715",
   "metadata": {},
   "outputs": [],
   "source": [
    "#8  Write a code to convert a given string to uppercase or lowercase.\n",
    "\n",
    "\n",
    "string = \"Hello, World!\"\n",
    "string.upper()"
   ]
  },
  {
   "cell_type": "code",
   "execution_count": 5,
   "id": "afbe85d3-a104-4d7e-b450-781a179ed5af",
   "metadata": {},
   "outputs": [
    {
     "ename": "NameError",
     "evalue": "name 'string' is not defined",
     "output_type": "error",
     "traceback": [
      "\u001b[1;31m---------------------------------------------------------------------------\u001b[0m",
      "\u001b[1;31mNameError\u001b[0m                                 Traceback (most recent call last)",
      "Cell \u001b[1;32mIn[5], line 1\u001b[0m\n\u001b[1;32m----> 1\u001b[0m \u001b[43mstring\u001b[49m\u001b[38;5;241m.\u001b[39mlower()\n",
      "\u001b[1;31mNameError\u001b[0m: name 'string' is not defined"
     ]
    }
   ],
   "source": [
    "string.lower()"
   ]
  },
  {
   "cell_type": "code",
   "execution_count": 6,
   "id": "b9e2da58-5005-4632-aee2-4d0bf322c059",
   "metadata": {},
   "outputs": [
    {
     "name": "stdout",
     "output_type": "stream",
     "text": [
      "5\n"
     ]
    }
   ],
   "source": [
    "#9  Write a code to count the number of words in a string.\n",
    "def count_words(text):\n",
    "    words=text.split()\n",
    "    return len(words)\n",
    "words= \"sach kha raha hai dewwana\"\n",
    "count=count_words(words)\n",
    "print(count)"
   ]
  },
  {
   "cell_type": "code",
   "execution_count": 7,
   "id": "d3cd7c28-0fa9-4bc5-8d5c-5d724c0eb7dd",
   "metadata": {},
   "outputs": [
    {
     "name": "stdout",
     "output_type": "stream",
     "text": [
      "Hello, world!\n"
     ]
    }
   ],
   "source": [
    "#10   Write a code to conaatenate two strings without using the + operator\n",
    "\n",
    "#Using f-strings\n",
    "string1 = \"Hello, \"\n",
    "string2 = \"world!\"\n",
    "result = f\"{string1}{string2}\"\n",
    "print(result)  "
   ]
  },
  {
   "cell_type": "code",
   "execution_count": 8,
   "id": "69a01353-45bf-4416-aea1-83d44143d2a4",
   "metadata": {},
   "outputs": [
    {
     "ename": "NameError",
     "evalue": "name 'remove_element' is not defined",
     "output_type": "error",
     "traceback": [
      "\u001b[1;31m---------------------------------------------------------------------------\u001b[0m",
      "\u001b[1;31mNameError\u001b[0m                                 Traceback (most recent call last)",
      "Cell \u001b[1;32mIn[8], line 5\u001b[0m\n\u001b[0;32m      3\u001b[0m ment from\n\u001b[0;32m      4\u001b[0m  a list\n\u001b[1;32m----> 5\u001b[0m \n\u001b[0;32m      6\u001b[0m my_list=[1,2,3,2,2,4,2,6,2,2]\n\u001b[0;32m      7\u001b[0m element_to_remove=2\n",
      "\u001b[1;31mNameError\u001b[0m: name 'remove_element' is not defined"
     ]
    }
   ],
   "source": [
    "#11  Write a code to re\f",
    "move all occurrences of a specific ele\f",
    "ment from\f",
    " a list\n",
    "\n",
    "my_list=[1,2,3,2,2,4,2,6,2,2]\n",
    "element_to_remove=2\n",
    "new_list=remove_element(my_list, element_to_remove)\n",
    "print(new_list)"
   ]
  },
  {
   "cell_type": "code",
   "execution_count": 9,
   "id": "baef3635-130b-4b0f-9570-138339c64bbe",
   "metadata": {},
   "outputs": [
    {
     "name": "stdout",
     "output_type": "stream",
     "text": [
      "The second largest number is: 45\n"
     ]
    }
   ],
   "source": [
    "#12 Implement a code to find the second largest number in a given list of integer\n",
    "\n",
    "\n",
    "def second_largest(numbers):\n",
    "    if len(numbers) < 2:\n",
    "        return None  # Not enough elements for a second largest\n",
    "\n",
    "    first = second = float('-inf')\n",
    "    \n",
    "    for number in numbers:\n",
    "        if number > first:\n",
    "            second = first\n",
    "            first = number\n",
    "        elif first > number > second:\n",
    "            second = number\n",
    "\n",
    "    return second if second != float('-inf') else None\n",
    "\n",
    "# Example usage:\n",
    "numbers = [10, 20, 4, 45, 99]\n",
    "result = second_largest(numbers)\n",
    "print(f\"The second largest number is: {result}\")\n"
   ]
  },
  {
   "cell_type": "code",
   "execution_count": 10,
   "id": "ed54bc8e-9e2f-48bd-beeb-1a5d35df6646",
   "metadata": {},
   "outputs": [
    {
     "name": "stdout",
     "output_type": "stream",
     "text": [
      "{'apple': 2, 'banana': 3, 'orange': 1}\n"
     ]
    }
   ],
   "source": [
    "#13  Create a code to count the occurrence of each element in a list and return a dictionary with elements as keys and their counts as value\n",
    "\n",
    "def count_occurrences(elements):\n",
    "    count_dict = {}\n",
    "    \n",
    "    for i in elements:\n",
    "        if i in count_dict:\n",
    "            count_dict[i] += 1\n",
    "        else:\n",
    "            count_dict[i] = 1\n",
    "            \n",
    "    return count_dict\n",
    "\n",
    "# Example usage:\n",
    "elements = ['apple', 'banana', 'apple', 'orange', 'banana', 'banana']\n",
    "result = count_occurrences(elements)\n",
    "print(result)\n"
   ]
  },
  {
   "cell_type": "code",
   "execution_count": 11,
   "id": "c3a4d7b6-acc5-42d0-8b1f-e8d002114ce9",
   "metadata": {},
   "outputs": [],
   "source": [
    "#14Write a code to reverse a list in-place without using any built-in reverse functions\n",
    "\n",
    "my_list=[1,2,3,4,5]\n",
    "my_list.reverse()"
   ]
  },
  {
   "cell_type": "code",
   "execution_count": 12,
   "id": "c3c59247-c6af-4b86-b82d-5d37c4252a73",
   "metadata": {},
   "outputs": [
    {
     "name": "stdout",
     "output_type": "stream",
     "text": [
      "[5, 4, 3, 2, 1]\n"
     ]
    }
   ],
   "source": [
    "print(my_list)"
   ]
  },
  {
   "cell_type": "code",
   "execution_count": 13,
   "id": "7768d3d5-ca6b-478b-b7dd-50bcc9f8da74",
   "metadata": {},
   "outputs": [
    {
     "name": "stdout",
     "output_type": "stream",
     "text": [
      "The original list is : [1, 3, 5, 6, 3, 5, 6, 1]\n",
      "The list after removing duplicates : [1, 3, 5, 6]\n"
     ]
    }
   ],
   "source": [
    "#15  Implement a code to find and remove duplicates from a list while preserving the original order of element\n",
    "test_list = [1, 3, 5, 6, 3, 5, 6, 1]\n",
    "print(\"The original list is : \"\n",
    "      + str(test_list))\n",
    "\n",
    "# using list comprehension to remove duplicated from list\n",
    "res = []\n",
    "[res.append(x) for x in test_list if x not in res]\n",
    "\n",
    "# printing list after removal\n",
    "print (\"The list after removing duplicates : \"\n",
    "       + str(res))"
   ]
  },
  {
   "cell_type": "code",
   "execution_count": 14,
   "id": "20cd3717-1729-427f-aa89-e12126c54c69",
   "metadata": {},
   "outputs": [
    {
     "name": "stdout",
     "output_type": "stream",
     "text": [
      "True\n",
      "True\n",
      "False\n"
     ]
    }
   ],
   "source": [
    "#16  Create a code to check if a given list is sorted (either in asending or decending order) or not\n",
    "\n",
    "def is_sorted(lst):\n",
    "    if len(lst) < 2:\n",
    "        return True\n",
    "        \n",
    "    ascending = True\n",
    "    descending = True\n",
    "\n",
    "    for i in range (1,len(lst)):\n",
    "        if  lst[i] <lst[i-1]:\n",
    "            ascending = False\n",
    "        if lst[i] >lst[i-1]:\n",
    "            descending = False\n",
    "\n",
    "    return ascending or descending \n",
    "\n",
    "list1 = [1, 2, 3, 4, 5]\n",
    "list2 = [5, 4, 3, 2, 1]\n",
    "list3 = [1, 3, 2, 4, 5]\n",
    "\n",
    "print(is_sorted(list1))  \n",
    "print(is_sorted(list2))  \n",
    "print(is_sorted(list3))  \n",
    "\n",
    "       \n",
    "    \n",
    "    \n"
   ]
  },
  {
   "cell_type": "code",
   "execution_count": 15,
   "id": "60b75f6d-7258-453c-b3f1-6525018c1639",
   "metadata": {},
   "outputs": [],
   "source": [
    "#17 Write a code to merge two sorted lists into a single sorted list\n",
    "\n",
    "a=[1,2,3,4,5]\n",
    "b=[6,7,8,9,10]\n",
    "a.extend(b)"
   ]
  },
  {
   "cell_type": "code",
   "execution_count": 16,
   "id": "ada42d5c-b2ed-4125-bdc6-5caba5cd56cd",
   "metadata": {},
   "outputs": [
    {
     "data": {
      "text/plain": [
       "[1, 2, 3, 4, 5, 6, 7, 8, 9, 10]"
      ]
     },
     "execution_count": 16,
     "metadata": {},
     "output_type": "execute_result"
    }
   ],
   "source": [
    "a"
   ]
  },
  {
   "cell_type": "code",
   "execution_count": 17,
   "id": "5d054f66-956e-4c7f-b093-138ce914ad55",
   "metadata": {},
   "outputs": [],
   "source": [
    "#18Implement a code to find the intersection of two given lists\n",
    "\n",
    "a={\"ajay\",\"vijay\",\"ishan\"}\n",
    "b={\"sanket\",\"garv\",\"ajay\"}\n"
   ]
  },
  {
   "cell_type": "code",
   "execution_count": 18,
   "id": "31dce6f6-791f-4736-afa7-01e86a65f7df",
   "metadata": {},
   "outputs": [
    {
     "data": {
      "text/plain": [
       "{'ajay'}"
      ]
     },
     "execution_count": 18,
     "metadata": {},
     "output_type": "execute_result"
    }
   ],
   "source": [
    "a&b"
   ]
  },
  {
   "cell_type": "code",
   "execution_count": 19,
   "id": "f660c2a9-89b5-41d0-84e4-bb935a60a6f9",
   "metadata": {},
   "outputs": [],
   "source": [
    "#19  Create a code to find the union of two lists without duplicates\n",
    "\n",
    "a={1,2,3,4,5}\n",
    "b={5,6,7,8,9}\n"
   ]
  },
  {
   "cell_type": "code",
   "execution_count": 20,
   "id": "83bbcba1-ebd7-46dd-bb5c-b569a46a7023",
   "metadata": {},
   "outputs": [
    {
     "data": {
      "text/plain": [
       "{1, 2, 3, 4, 5, 6, 7, 8, 9}"
      ]
     },
     "execution_count": 20,
     "metadata": {},
     "output_type": "execute_result"
    }
   ],
   "source": [
    "a|b"
   ]
  },
  {
   "cell_type": "code",
   "execution_count": 21,
   "id": "75636b7f-435d-4733-964c-38b25882fcbb",
   "metadata": {},
   "outputs": [
    {
     "name": "stdout",
     "output_type": "stream",
     "text": [
      "[6, 8, 5, 4, 2, 1, 7, 9, 10, 3]\n"
     ]
    }
   ],
   "source": [
    "#20  Write a code to shuffle a given list randomly without using any built-in shuffle functions\n",
    "\n",
    "import random\n",
    "\n",
    "#define the lists\n",
    "list1 = [1, 2, 3, 4, 5, 6, 7, 8, 9, 10]\n",
    "list2 = []\n",
    "run = True\n",
    "\n",
    "#main code\n",
    "while run:\n",
    "    var1 = random.choice(list1)\n",
    "    var2 = list1.index(var1)\n",
    "    list1.pop(var2)\n",
    "    list2.append(var1)\n",
    "    if len(list1) == 0:\n",
    "        run = False\n",
    "print (list2)\n",
    "#output = [randomised list]"
   ]
  },
  {
   "cell_type": "code",
   "execution_count": 22,
   "id": "645107e5-18c8-46cd-98b8-37106663ae29",
   "metadata": {},
   "outputs": [
    {
     "name": "stdout",
     "output_type": "stream",
     "text": [
      "the orignal tuple1: (4, 5)\n",
      "the orignal tuple2: (7, 3)\n",
      "they are the common tulples:[(4, 7), (4, 3), (5, 7), (5, 3), (7, 4), (7, 5), (3, 4), (3, 5)]\n"
     ]
    }
   ],
   "source": [
    "#21  Write a code that take two tuples as input and return a new tuple containing elements that are common to both input tuples\n",
    "\n",
    "tuple_1= (4,5)\n",
    "tuple_2 =(7,3)\n",
    "\n",
    "print(\"the orignal tuple1: \" + str(tuple_1))\n",
    "print(\"the orignal tuple2: \" + str(tuple_2))\n",
    "\n",
    "\n",
    "res=[(a,b) for a in tuple_1 for b in tuple_2] + [(a,b) for a in tuple_2 for b in tuple_1]\n",
    "\n",
    "print(\"they are the common tulples:\" + str(res))"
   ]
  },
  {
   "cell_type": "code",
   "execution_count": 23,
   "id": "a5acb5de-d66e-4d25-8567-3551d7cd8909",
   "metadata": {},
   "outputs": [
    {
     "name": "stdout",
     "output_type": "stream",
     "text": [
      "{2, 3}\n"
     ]
    }
   ],
   "source": [
    "#22  Create a code that prompts the user to enter two sets of integers separated by commas. Then, print the intersection of these two sets \n",
    "\n",
    "s1 = {1, 2, 3}\n",
    "s2 = {2, 3}\n",
    "print(s1.intersection(s2))\n"
   ]
  },
  {
   "cell_type": "code",
   "execution_count": 24,
   "id": "1c27f0e3-860e-48d3-9fa1-8d2aad1c8e0b",
   "metadata": {},
   "outputs": [
    {
     "name": "stdout",
     "output_type": "stream",
     "text": [
      "the tuples after concatenate:(1, 3, 5, 2, 4, 6)\n"
     ]
    }
   ],
   "source": [
    "#23  Write a code to concatenate two tuples. The function should take two tuples as input and return a new tuple containing elements from both input tuples.\n",
    "\n",
    "test_tup1=(1,3,5)\n",
    "test_tup2=(2,4,6)\n",
    "\n",
    "res=test_tup1+test_tup2\n",
    "\n",
    "print(\"the tuples after concatenate:\" +str(res))"
   ]
  },
  {
   "cell_type": "code",
   "execution_count": 25,
   "id": "1c423b27-529a-4ed6-a69b-53adb7bc3e9b",
   "metadata": {},
   "outputs": [
    {
     "name": "stdout",
     "output_type": "stream",
     "text": [
      "{'r', 'f', 'o'}\n"
     ]
    }
   ],
   "source": [
    "#24 Develop  a code that prompt the user to input two sets of strings. Then print the elements that are present in the first set but not in the second set.\n",
    "\n",
    "a=\"geeksforgeeks\"\n",
    "b=\"geeks\"\n",
    "\n",
    "setA=set(a)\n",
    "setB=set(b)\n",
    "\n",
    "result = setA-setB\n",
    "print(result)\n"
   ]
  },
  {
   "cell_type": "code",
   "execution_count": 26,
   "id": "b53e5bd4-a5e6-49af-b52b-f1b70e228e09",
   "metadata": {},
   "outputs": [
    {
     "name": "stdout",
     "output_type": "stream",
     "text": [
      "Sliced Tuple: (20, 30, 40)\n"
     ]
    }
   ],
   "source": [
    "#25  Create a code that takes a tuple and two integers as input. The function should return a new tuple containing elements from the original tuple within the specified range of indices\n",
    "\n",
    "def slice_tuple(input_tuple, start, end):\n",
    "    # Return a new tuple with elements from the specified range\n",
    "    return input_tuple[start:end]\n",
    "\n",
    "# Example usage\n",
    "original_tuple = (10, 20, 30, 40, 50)\n",
    "start_index = 1\n",
    "end_index = 4\n",
    "\n",
    "sliced_tuple = slice_tuple(original_tuple, start_index, end_index)\n",
    "print(\"Sliced Tuple:\", sliced_tuple)\n"
   ]
  },
  {
   "cell_type": "code",
   "execution_count": 27,
   "id": "ed48d84e-de33-4985-926d-ccf29c5c3721",
   "metadata": {},
   "outputs": [
    {
     "name": "stdout",
     "output_type": "stream",
     "text": [
      "set1 U set2 U set3 {1, 2, 3, 4, 5, 6, 7, 8, 9}\n"
     ]
    }
   ],
   "source": [
    "#26   Write a code that prompts the user to input two sets of characters. Then print the union of these two sets.\n",
    "\n",
    "set1={1,2,3,4,5}\n",
    "set2={3,4,5,6,7}\n",
    "set3={5,6,7,8,9}\n",
    "\n",
    "print(\"set1 U set2 U set3\" , set1.union(set2,set3))"
   ]
  },
  {
   "cell_type": "code",
   "execution_count": 28,
   "id": "9e6866b9-ebca-456c-a2ae-096ad64def32",
   "metadata": {},
   "outputs": [
    {
     "name": "stdout",
     "output_type": "stream",
     "text": [
      "The original list is : [(2, 3), (4, 7), (8, 11), (3, 6)]\n",
      "The min and max of index 1 : (2, 8)\n",
      "The min and max of index 2 : (3, 11)\n"
     ]
    }
   ],
   "source": [
    "#27  Develop a code that takes a tuple of integers as input. The function should return the maximum and minimum values from the tuple using tuple \n",
    "\n",
    "\n",
    "test_list = [(2, 3), (4, 7), (8, 11), (3, 6)]\n",
    " \n",
    "print (\"The original list is : \" + str(test_list))\n",
    " \n",
    "\n",
    "res1 = min(test_list)[0], max(test_list)[0]\n",
    "res2 = min(test_list)[1], max(test_list)[1]\n",
    " \n",
    "\n",
    "print (\"The min and max of index 1 : \" + str(res1))\n",
    "print (\"The min and max of index 2 : \" + str(res2))"
   ]
  },
  {
   "cell_type": "code",
   "execution_count": 29,
   "id": "b3a590a3-cebd-428e-9a53-a7770423811e",
   "metadata": {},
   "outputs": [
    {
     "name": "stdout",
     "output_type": "stream",
     "text": [
      "union: {0, 1, 2, 3, 4, 5, 6, 8}\n",
      "intersection: {2, 4}\n",
      "dfference: {0, 8, 6}\n"
     ]
    }
   ],
   "source": [
    "#28 Create a code that defines two sets of integers. Then print the union intersection and difference of these two sets\n",
    "\n",
    "a={0,2,4,6,8}\n",
    "b={1,2,3,4,5}\n",
    "\n",
    "print(\"union:\",a|b)\n",
    "print(\"intersection:\",a&b)\n",
    "print(\"dfference:\",a-b)"
   ]
  },
  {
   "cell_type": "code",
   "execution_count": 30,
   "id": "dc8d1f93-cbbc-485e-b992-71f669dd3e09",
   "metadata": {},
   "outputs": [
    {
     "name": "stdout",
     "output_type": "stream",
     "text": [
      "the element 10 occurance 3 times\n"
     ]
    }
   ],
   "source": [
    "#29  Write a code that takes a tuple and an element as input. The function should return the count of occurrances of the given element in thw tuples\n",
    "\n",
    "tuple_1 =(10,8,7,4,10,3,10)\n",
    "\n",
    "x=[i for i in tuple_1 if i==10]\n",
    "print(\"the element 10 occurance\",len(x),\"times\")"
   ]
  },
  {
   "cell_type": "code",
   "execution_count": 31,
   "id": "b81f4ee3-1225-4d96-be8a-b884fdd7d781",
   "metadata": {},
   "outputs": [
    {
     "name": "stdout",
     "output_type": "stream",
     "text": [
      "{1, 2, 3, 5, 6, 7}\n"
     ]
    }
   ],
   "source": [
    "#30  Develop a code that prompts the user to input two sets of strings. Then print the symmetric difference of these two sets\n",
    "\n",
    "a={1,2,3,4}\n",
    "b={4,5,6,7}\n",
    "result=a.symmetric_difference(b)\n",
    "print(result)"
   ]
  },
  {
   "cell_type": "code",
   "execution_count": 32,
   "id": "33cfd192-e118-4c0f-94a5-001cafd6ea10",
   "metadata": {},
   "outputs": [
    {
     "name": "stdout",
     "output_type": "stream",
     "text": [
      "Word Frequencies: {'apple': 3, 'banana': 2, 'orange': 1}\n"
     ]
    }
   ],
   "source": [
    "#31 Write  code that takes a list of words as input +nd returns a dictionary where the keys are unique words and the values are the frequencies of those words in the input list\n",
    "\n",
    "def word_frequencies(word_list):\n",
    "    frequency_dict = {}\n",
    "    \n",
    "    for word in word_list:\n",
    "        if word in frequency_dict:\n",
    "            frequency_dict[word] += 1\n",
    "        else:\n",
    "            frequency_dict[word] = 1\n",
    "    \n",
    "    return frequency_dict\n",
    "\n",
    "# Example usage\n",
    "words = [\"apple\", \"banana\", \"apple\", \"orange\", \"banana\", \"apple\"]\n",
    "frequencies = word_frequencies(words)\n",
    "\n",
    "print(\"Word Frequencies:\", frequencies)\n"
   ]
  },
  {
   "cell_type": "code",
   "execution_count": 33,
   "id": "bc3784f1-6a6f-488a-988d-395636d73619",
   "metadata": {},
   "outputs": [
    {
     "name": "stdout",
     "output_type": "stream",
     "text": [
      "{'Geeks': 100, 'geek': 200, 'for': 325}\n"
     ]
    }
   ],
   "source": [
    "#32  Write a code that takes two dictionaris as input and merges them into a single dictionary. If there are common keys the values should be added together\n",
    "\n",
    "dict1 = {'a': 12, 'for': 25, 'c': 9}\n",
    "dict2 = {'Geeks': 100, 'geek': 200, 'for': 300}\n",
    "\n",
    "for key in dict2:\n",
    "    if key in dict1:\n",
    "        dict2[key]=dict1[key]+dict2[key]\n",
    "    else:\n",
    "        pass\n",
    "print(dict2)\n"
   ]
  },
  {
   "cell_type": "code",
   "execution_count": 34,
   "id": "722b0764-0cf4-47b5-aeab-1e3b22663d9e",
   "metadata": {},
   "outputs": [
    {
     "name": "stdout",
     "output_type": "stream",
     "text": [
      "The original dictionary is : {'Gfg': {'is': 'best'}}\n",
      "The nested safely accessed value is : best\n"
     ]
    }
   ],
   "source": [
    "#33 Write a code to access a value in a nested dictionary. The function should take the dictionary and a list of keys as input and return the corresponding value. If any of the keys do not exist in the dictionary the function should return None\n",
    "\n",
    "# Python3 code to demonstrate working of\n",
    "# Safe access nested dictionary key\n",
    "# Using nested get()\n",
    "\n",
    "# initializing dictionary\n",
    "test_dict = {'Gfg' : {'is' : 'best'}}\n",
    "\n",
    "# printing original dictionary\n",
    "print(\"The original dictionary is : \" + str(test_dict))\n",
    "\n",
    "# using nested get()\n",
    "# Safe access nested dictionary key\n",
    "res = test_dict.get('Gfg', {}).get('is')\n",
    "\n",
    "# printing result\n",
    "print(\"The nested safely accessed value is : \" + str(res))\n"
   ]
  },
  {
   "cell_type": "code",
   "execution_count": 35,
   "id": "4a678c84-3776-47d0-a3a2-d093bd562b31",
   "metadata": {},
   "outputs": [
    {
     "name": "stdout",
     "output_type": "stream",
     "text": [
      "Sorted Ascending: {'b': 1, 'c': 2, 'a': 3}\n",
      "Sorted Descending: {'a': 3, 'c': 2, 'b': 1}\n"
     ]
    }
   ],
   "source": [
    "#34 Write a code that takes a dictionary as input and returns a sorted version of it based on the values. You can choose whether to sort in ascending or descending order\n",
    "\n",
    "def sort_dict_by_values(input_dict, ascending=True):\n",
    "    # Sort the dictionary by values\n",
    "    sorted_dict = dict(sorted(input_dict.items(), key=lambda item: item[1], reverse=not ascending))\n",
    "    return sorted_dict\n",
    "\n",
    "# Example usage\n",
    "example_dict = {'a': 3, 'b': 1, 'c': 2}\n",
    "sorted_ascending = sort_dict_by_values(example_dict, ascending=True)\n",
    "sorted_descending = sort_dict_by_values(example_dict, ascending=False)\n",
    "\n",
    "print(\"Sorted Ascending:\", sorted_ascending)\n",
    "print(\"Sorted Descending:\", sorted_descending)\n"
   ]
  },
  {
   "cell_type": "code",
   "execution_count": 36,
   "id": "bebddc50-8d8e-4aaa-b8a6-73e0e22ef095",
   "metadata": {},
   "outputs": [
    {
     "name": "stdout",
     "output_type": "stream",
     "text": [
      "Inverted Dictionary: {1: ['a', 'c'], 2: ['b'], 3: ['d']}\n"
     ]
    }
   ],
   "source": [
    "#35 Write a code that inverts a dictionary swapping keys and values. Ensure that the inverted dictionary correctly handles cases where multiple keys have the same value by storing the keys as a list in the inverted dictionary\n",
    "\n",
    "\n",
    "def invert_dict(input_dict):\n",
    "    inverted_dict = {}\n",
    "    \n",
    "    for key, value in input_dict.items():\n",
    "        if value in inverted_dict:\n",
    "            # If the value is already a key, append the current key to the list\n",
    "            inverted_dict[value].append(key)\n",
    "        else:\n",
    "            # Otherwise, create a new list with the current key\n",
    "            inverted_dict[value] = [key]\n",
    "    \n",
    "    return inverted_dict\n",
    "\n",
    "# Example usage\n",
    "example_dict = {'a': 1, 'b': 2, 'c': 1, 'd': 3}\n",
    "inverted = invert_dict(example_dict)\n",
    "\n",
    "print(\"Inverted Dictionary:\", inverted)\n"
   ]
  },
  {
   "cell_type": "code",
   "execution_count": null,
   "id": "dd57fbcc-2fbd-4134-a36c-1bb36d0589a6",
   "metadata": {},
   "outputs": [],
   "source": []
  },
  {
   "cell_type": "code",
   "execution_count": null,
   "id": "e1271a5b-0a2d-4cde-9d98-f91b377d472c",
   "metadata": {},
   "outputs": [],
   "source": []
  },
  {
   "cell_type": "code",
   "execution_count": null,
   "id": "59278fd7-db01-42c6-9479-4f4c22b28e3b",
   "metadata": {},
   "outputs": [],
   "source": []
  },
  {
   "cell_type": "code",
   "execution_count": null,
   "id": "0873e21d-ef5c-4a5e-8217-66f84db7563d",
   "metadata": {},
   "outputs": [],
   "source": []
  },
  {
   "cell_type": "code",
   "execution_count": null,
   "id": "e17c872d-0b1d-4dbc-a997-838c3ad8a4f6",
   "metadata": {},
   "outputs": [],
   "source": []
  },
  {
   "cell_type": "code",
   "execution_count": null,
   "id": "2a40d7bd-0a69-47df-9029-b20f9c1687c4",
   "metadata": {},
   "outputs": [],
   "source": []
  },
  {
   "cell_type": "code",
   "execution_count": null,
   "id": "c77e693c-035c-4f54-9b57-a7eb9f64697f",
   "metadata": {},
   "outputs": [],
   "source": []
  },
  {
   "cell_type": "code",
   "execution_count": null,
   "id": "4e141f5f-72c2-4a11-9743-fd03f49cbdf3",
   "metadata": {},
   "outputs": [],
   "source": []
  }
 ],
 "metadata": {
  "kernelspec": {
   "display_name": "Python 3 (ipykernel)",
   "language": "python",
   "name": "python3"
  },
  "language_info": {
   "codemirror_mode": {
    "name": "ipython",
    "version": 3
   },
   "file_extension": ".py",
   "mimetype": "text/x-python",
   "name": "python",
   "nbconvert_exporter": "python",
   "pygments_lexer": "ipython3",
   "version": "3.12.6"
  }
 },
 "nbformat": 4,
 "nbformat_minor": 5
}
